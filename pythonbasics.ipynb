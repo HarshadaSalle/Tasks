{
 "cells": [
  {
   "cell_type": "code",
   "execution_count": 1,
   "id": "f27c5aac-51b7-42fb-9b9f-87f93580a8b6",
   "metadata": {},
   "outputs": [
    {
     "name": "stdout",
     "output_type": "stream",
     "text": [
      "hii\n"
     ]
    }
   ],
   "source": [
    "print(\"hii\")"
   ]
  },
  {
   "cell_type": "code",
   "execution_count": 2,
   "id": "02ddc665-d55d-4697-acfe-bd47dd9fea8f",
   "metadata": {},
   "outputs": [
    {
     "data": {
      "text/plain": [
       "5"
      ]
     },
     "execution_count": 2,
     "metadata": {},
     "output_type": "execute_result"
    }
   ],
   "source": [
    "x=5\n",
    "x"
   ]
  },
  {
   "cell_type": "code",
   "execution_count": 3,
   "id": "495c7c5a-63db-444c-998a-977b72936372",
   "metadata": {},
   "outputs": [
    {
     "data": {
      "text/plain": [
       "32"
      ]
     },
     "execution_count": 3,
     "metadata": {},
     "output_type": "execute_result"
    }
   ],
   "source": [
    "a=b=c=32\n",
    "a\n",
    "b\n",
    "c"
   ]
  },
  {
   "cell_type": "code",
   "execution_count": 4,
   "id": "8ced5a5d-bd5b-46c5-aae5-26fb14d8e2c0",
   "metadata": {},
   "outputs": [
    {
     "data": {
      "text/plain": [
       "'oit'"
      ]
     },
     "execution_count": 4,
     "metadata": {},
     "output_type": "execute_result"
    }
   ],
   "source": [
    "str1=\"oit\"\n",
    "str1"
   ]
  },
  {
   "cell_type": "code",
   "execution_count": 5,
   "id": "c6d19f37-4eb2-4cab-8f20-8ebad82d1f54",
   "metadata": {},
   "outputs": [
    {
     "data": {
      "text/plain": [
       "'oit institutre'"
      ]
     },
     "execution_count": 5,
     "metadata": {},
     "output_type": "execute_result"
    }
   ],
   "source": [
    "str2=str1 + \" institutre\"\n",
    "str2"
   ]
  },
  {
   "cell_type": "code",
   "execution_count": 6,
   "id": "8cec70ec-7d27-426c-af25-f9df7d4d3ba3",
   "metadata": {},
   "outputs": [
    {
     "name": "stdin",
     "output_type": "stream",
     "text": [
      "Enter value of n1 12\n",
      "Enter value of n2 23\n",
      "Enter value of n3 34\n"
     ]
    },
    {
     "name": "stdout",
     "output_type": "stream",
     "text": [
      "34\n"
     ]
    }
   ],
   "source": [
    "n1=int(input(\"Enter value of n1\"))\n",
    "n2=int(input(\"Enter value of n2\"))\n",
    "n3=int(input(\"Enter value of n3\"))\n",
    "if n1>n2:\n",
    "    if n1>n3:\n",
    "        print(n1)\n",
    "    else:\n",
    "        print(n3)\n",
    "else:\n",
    "    if(n2>n3):\n",
    "        print(n2)\n",
    "    else:\n",
    "        print(n3)\n"
   ]
  },
  {
   "cell_type": "code",
   "execution_count": 7,
   "id": "bb7d0864-2db2-43f8-aa59-6b2e0bcd63f8",
   "metadata": {},
   "outputs": [
    {
     "name": "stdin",
     "output_type": "stream",
     "text": [
      "Enter value of n1 45\n",
      "Enter value of n2 67\n",
      "Enter value of n3 67\n"
     ]
    },
    {
     "name": "stdout",
     "output_type": "stream",
     "text": [
      "max = 67\n"
     ]
    }
   ],
   "source": [
    "#max from 3 no\n",
    "n1=int(input(\"Enter value of n1\"))\n",
    "n2=int(input(\"Enter value of n2\"))\n",
    "n3=int(input(\"Enter value of n3\"))\n",
    "if (n1>n2 and n1>n3):\n",
    "    print(\"max =\",+n1)\n",
    "elif(n2>n1 and n2>n3):\n",
    "    print(\"max =\",+n2)\n",
    "else:\n",
    "    print(\"max =\",+n3)"
   ]
  },
  {
   "cell_type": "code",
   "execution_count": 8,
   "id": "c8be5e29-d57f-4566-b7ed-a504d0257168",
   "metadata": {},
   "outputs": [
    {
     "name": "stdin",
     "output_type": "stream",
     "text": [
      "Enter value of point 56\n",
      "Enter value of ammount 78\n"
     ]
    },
    {
     "name": "stdout",
     "output_type": "stream",
     "text": [
      "ammount= 78\n",
      "discount= 0\n",
      "total= 78\n"
     ]
    }
   ],
   "source": [
    "point=int(input(\"Enter value of point\"))\n",
    "ammount=int(input(\"Enter value of ammount\"))\n",
    "total=0\n",
    "discount=0\n",
    "if(point>300 or ammount>10000):\n",
    "    discount=ammount*0.1\n",
    "    total=ammount-discount\n",
    "else:\n",
    "    discount=0\n",
    "    total=ammount\n",
    "print(\"ammount=\",+ammount)\n",
    "print(\"discount=\",+discount)\n",
    "print(\"total=\",+total)"
   ]
  },
  {
   "cell_type": "code",
   "execution_count": 9,
   "id": "1788288e-cc72-41f8-90fe-55700bbe3939",
   "metadata": {},
   "outputs": [
    {
     "name": "stdin",
     "output_type": "stream",
     "text": [
      "Enter value of n1 89\n",
      "Enter value of n2 87\n"
     ]
    },
    {
     "name": "stdout",
     "output_type": "stream",
     "text": [
      "max = 89\n"
     ]
    }
   ],
   "source": [
    "#max from 2 no\n",
    "n1=int(input(\"Enter value of n1\"))\n",
    "n2=int(input(\"Enter value of n2\"))\n",
    "if n1>n2:\n",
    "    print(\"max =\",+n1)\n",
    "elif n2>n1:\n",
    "    print(\"max =\",+n2)\n",
    "else:\n",
    "    print(\"both equals\")\n",
    "    \n",
    "    "
   ]
  },
  {
   "cell_type": "code",
   "execution_count": 10,
   "id": "80a65aba-51f4-4bff-bc85-9fd084b18cbf",
   "metadata": {},
   "outputs": [
    {
     "name": "stdin",
     "output_type": "stream",
     "text": [
      "Enter value of n1 78\n"
     ]
    },
    {
     "name": "stdout",
     "output_type": "stream",
     "text": [
      "positive\n"
     ]
    }
   ],
   "source": [
    "n1=int(input(\"Enter value of n1\"))\n",
    "if n1>0:\n",
    "    print(\"positive\")\n",
    "elif n1<0:\n",
    "    print(\"negative\")\n",
    "else:\n",
    "    print(\"zero\")\n",
    "    "
   ]
  },
  {
   "cell_type": "code",
   "execution_count": 11,
   "id": "f1c8d61e-d15d-451f-9db2-68ba2952d8e3",
   "metadata": {},
   "outputs": [
    {
     "name": "stdin",
     "output_type": "stream",
     "text": [
      "Enter value of n1 78\n"
     ]
    },
    {
     "name": "stdout",
     "output_type": "stream",
     "text": [
      "not\n"
     ]
    }
   ],
   "source": [
    "n=int(input(\"Enter value of n1\"))\n",
    "if (n%5==0 and n%11==0):\n",
    "    print(\"divisible\")\n",
    "else:\n",
    "    print(\"not\")"
   ]
  },
  {
   "cell_type": "code",
   "execution_count": 12,
   "id": "acd145d5-00b1-47e5-bcfa-6c83116b3113",
   "metadata": {},
   "outputs": [
    {
     "name": "stdin",
     "output_type": "stream",
     "text": [
      "Enter value of n1 78\n"
     ]
    },
    {
     "name": "stdout",
     "output_type": "stream",
     "text": [
      "even\n"
     ]
    }
   ],
   "source": [
    "n=int(input(\"Enter value of n1\"))\n",
    "if (n%2==0):\n",
    "    print(\"even\")\n",
    "else:\n",
    "    print(\"odd\")"
   ]
  },
  {
   "cell_type": "code",
   "execution_count": 13,
   "id": "9c791bfe-2905-4a6f-ba7b-8e9bb05e523b",
   "metadata": {},
   "outputs": [
    {
     "name": "stdin",
     "output_type": "stream",
     "text": [
      "Enter value of n1 78\n"
     ]
    },
    {
     "name": "stdout",
     "output_type": "stream",
     "text": [
      "not\n"
     ]
    }
   ],
   "source": [
    "n=int(input(\"Enter value of n1\"))\n",
    "if (n%4==0 and n%100!=0 and n%400!=0):\n",
    "    print(\"leap year\")\n",
    "else:\n",
    "    print(\"not\")"
   ]
  },
  {
   "cell_type": "code",
   "execution_count": 14,
   "id": "8d9c5178-0670-4875-b083-3e4150988cce",
   "metadata": {},
   "outputs": [
    {
     "name": "stdin",
     "output_type": "stream",
     "text": [
      "Enter mark of physics 78\n",
      "Enter mark of chemistry 8\n",
      "Enter mark of biology 78\n",
      "Enter mark of Mathematics 89\n",
      "Enter mark of cs 89\n",
      "Enter max marks 500\n"
     ]
    },
    {
     "name": "stdout",
     "output_type": "stream",
     "text": [
      "grade D per=68.4 %\n"
     ]
    }
   ],
   "source": [
    "#per and grade\n",
    "n1=int(input(\"Enter mark of physics\"))\n",
    "n2=int(input(\"Enter mark of chemistry\"))\n",
    "n3=int(input(\"Enter mark of biology\"))\n",
    "n4=int(input(\"Enter mark of Mathematics\"))\n",
    "n5=int(input(\"Enter mark of cs\"))\n",
    "max=int(input(\"Enter max marks\"))\n",
    "total=n1+n2+n3+n4+n5\n",
    "per=(total/max)*100\n",
    "if(per>=90):\n",
    "    print(f\"grade A per={per} %\")\n",
    "elif(per>=80 and per<90):\n",
    "    print(f\"grade B per={per} %\")\n",
    "elif(per>=70 and per<80):\n",
    "    print(f\"grade c per={per} %\")\n",
    "elif(per>=60 and per<70):\n",
    "    print(f\"grade D per={per} %\")\n",
    "elif(per>=40 and per<60):\n",
    "    print(f\"grade E per={per} %\")\n",
    "else:\n",
    "    print(f\"Grade F per={per} %\")\n",
    "\n",
    "\n"
   ]
  },
  {
   "cell_type": "code",
   "execution_count": 15,
   "id": "a993c6b9-3d21-4658-b395-0b7bfe460906",
   "metadata": {},
   "outputs": [
    {
     "name": "stdout",
     "output_type": "stream",
     "text": [
      "hello India\n"
     ]
    }
   ],
   "source": [
    "str1=\"India\"\n",
    "print(f\"hello {str1}\")"
   ]
  },
  {
   "cell_type": "code",
   "execution_count": 16,
   "id": "6959d95a-6500-4f9c-a13b-211247852f5c",
   "metadata": {},
   "outputs": [
    {
     "name": "stdin",
     "output_type": "stream",
     "text": [
      "Enter basic salary 56\n",
      "Enter mark of HRA 67\n",
      "Enter mark of DA 78\n"
     ]
    }
   ],
   "source": [
    "n1=int(input(\"Enter basic salary\"))\n",
    "n2=int(input(\"Enter mark of HRA\"))\n",
    "n3=int(input(\"Enter mark of DA\"))\n",
    " \n"
   ]
  },
  {
   "cell_type": "code",
   "execution_count": 17,
   "id": "f1e3079a-8449-4819-9db5-094637fb832c",
   "metadata": {},
   "outputs": [
    {
     "name": "stdout",
     "output_type": "stream",
     "text": [
      "1,1\n",
      "2,4\n",
      "3,9\n",
      "4,16\n",
      "5,25\n",
      "6,36\n",
      "7,49\n",
      "8,64\n",
      "9,81\n",
      "10,100\n"
     ]
    }
   ],
   "source": [
    "i=1\n",
    "while i<=10:\n",
    "    print(f\"{i},{i*i}\")\n",
    "    i=i+1"
   ]
  },
  {
   "cell_type": "code",
   "execution_count": 18,
   "id": "05392be4-e2ce-44a5-8cdc-358ad45e029d",
   "metadata": {},
   "outputs": [
    {
     "name": "stdout",
     "output_type": "stream",
     "text": [
      "i= 10\n"
     ]
    }
   ],
   "source": [
    "i=10\n",
    "while i<=1:\n",
    "    print(i)\n",
    "    i=i-1\n",
    "print(\"i=\",i)"
   ]
  },
  {
   "cell_type": "code",
   "execution_count": null,
   "id": "3bdbcf93-0212-45df-8990-6f6c0b3df97a",
   "metadata": {},
   "outputs": [],
   "source": []
  },
  {
   "cell_type": "code",
   "execution_count": 19,
   "id": "4ce03df0-ad0e-4f5e-b046-d80e4068e796",
   "metadata": {},
   "outputs": [
    {
     "name": "stdin",
     "output_type": "stream",
     "text": [
      "enter n 34\n"
     ]
    },
    {
     "name": "stdout",
     "output_type": "stream",
     "text": [
      "10\n",
      "11\n",
      "12\n",
      "13\n",
      "14\n",
      "15\n",
      "16\n",
      "17\n",
      "18\n",
      "19\n",
      "20\n",
      "21\n",
      "22\n",
      "23\n",
      "24\n",
      "25\n",
      "26\n",
      "27\n",
      "28\n",
      "29\n",
      "30\n",
      "31\n",
      "32\n",
      "33\n",
      "34\n"
     ]
    }
   ],
   "source": [
    "i=10\n",
    "n=int(input(\"enter n\"))\n",
    "\n",
    "while i<=n:\n",
    "    print(i)\n",
    "    i=i+1\n"
   ]
  },
  {
   "cell_type": "code",
   "execution_count": 20,
   "id": "9401385a-3223-451d-8045-b47a7bd90137",
   "metadata": {},
   "outputs": [
    {
     "name": "stdin",
     "output_type": "stream",
     "text": [
      "enter n 34\n"
     ]
    },
    {
     "name": "stdout",
     "output_type": "stream",
     "text": [
      "10\n",
      "12\n",
      "14\n",
      "16\n",
      "18\n",
      "20\n",
      "22\n",
      "24\n",
      "26\n",
      "28\n",
      "30\n",
      "32\n",
      "34\n"
     ]
    }
   ],
   "source": [
    "i=10\n",
    "n=int(input(\"enter n\"))\n",
    "\n",
    "while i<=n:\n",
    "    print(i)\n",
    "    i=i+2\n"
   ]
  },
  {
   "cell_type": "code",
   "execution_count": null,
   "id": "bb90bbfb-a0fb-4690-90f1-d98e49b18232",
   "metadata": {},
   "outputs": [
    {
     "name": "stdin",
     "output_type": "stream",
     "text": [
      "enter n 67\n"
     ]
    },
    {
     "name": "stdout",
     "output_type": "stream",
     "text": [
      "0\n"
     ]
    }
   ],
   "source": [
    "i=0\n",
    "n=int(input(\"enter n\"))\n",
    "\n",
    "while i<=n:\n",
    "    if i%n==0:\n",
    "        print(i)\n",
    "        i=i+1\n"
   ]
  },
  {
   "cell_type": "code",
   "execution_count": null,
   "id": "8b8c4435-0823-43cb-acca-e812258e63d8",
   "metadata": {},
   "outputs": [],
   "source": [
    "i=0\n",
    "n=int(input(\"enter n\"))\n",
    "\n",
    "while i<=n:\n",
    "    if i%2==0:\n",
    "        print(i)\n",
    "        i=i+1\n"
   ]
  },
  {
   "cell_type": "code",
   "execution_count": null,
   "id": "450c27dc-d80e-4c30-a45c-29f4a73a6217",
   "metadata": {},
   "outputs": [],
   "source": []
  }
 ],
 "metadata": {
  "kernelspec": {
   "display_name": "Python 3 (ipykernel)",
   "language": "python",
   "name": "python3"
  },
  "language_info": {
   "codemirror_mode": {
    "name": "ipython",
    "version": 3
   },
   "file_extension": ".py",
   "mimetype": "text/x-python",
   "name": "python",
   "nbconvert_exporter": "python",
   "pygments_lexer": "ipython3",
   "version": "3.11.7"
  }
 },
 "nbformat": 4,
 "nbformat_minor": 5
}
